{
 "cells": [
  {
   "cell_type": "code",
   "execution_count": 566,
   "id": "8652dc05-5206-44b9-909a-2f191bf24b5b",
   "metadata": {},
   "outputs": [],
   "source": [
    "# when you restart a Jupyter Notebook, even if you see the outputs from the previous session, the variables, functions, and states in memory are lost. You need to re-run the cells to reload everything into memory.\n",
    "import torch \n",
    "import torch.nn as nn \n",
    "from torch.nn import functional as F"
   ]
  },
  {
   "cell_type": "code",
   "execution_count": 568,
   "id": "89cc2217-3553-4ec6-bf86-11d1f25bd10c",
   "metadata": {},
   "outputs": [
    {
     "name": "stdout",
     "output_type": "stream",
     "text": [
      "\n",
      " !\"#$%&'()+,-./0123456789:;?@ABCDEFGHIJKLMNOPQRSTUVWXYZabcdefghijklmnopqrstuvwxyz £°Éáãäåéëíïñóöøüāćń​–‘’“”…€﻿\n",
      "111\n"
     ]
    }
   ],
   "source": [
    "# Read the contents of the file\n",
    "# Save them to a var. named file_contents\n",
    "with open('title.txt', 'r') as file:\n",
    "    text = file.read()\n",
    "\n",
    "# Get no. of characters you are dealing with plus it's count\n",
    "chars = sorted(list(set(text))) # all content in sorted order\n",
    "vocab_size = len(chars) # no. of characters in file\n",
    "print(''.join(chars)) # join of these characters, unique ones\n",
    "print(vocab_size)\n",
    "\n",
    "# hyperparameters\n",
    "batch_size = 64 # how many independent sequences will we process in parallel?\n",
    "block_size = 256 # what is the maximum content length for predictions?\n",
    "max_iters = 5000\n",
    "eval_interval = 500\n",
    "learning_rate = 3e-4\n",
    "device = 'cuda' if torch.cuda.is_available() else 'cpu'\n",
    "eval_iters = 200\n",
    "n_embd = 384\n",
    "n_head = 6\n",
    "n_layer = 6\n",
    "dropout = 0.2\n",
    "#----\n"
   ]
  },
  {
   "cell_type": "code",
   "execution_count": 570,
   "id": "61d9211a-02a2-475f-988f-b6dfaf935db5",
   "metadata": {},
   "outputs": [
    {
     "name": "stdout",
     "output_type": "stream",
     "text": [
      "[63, 64, 1, 75, 63, 60, 73, 60]\n",
      "hi there\n"
     ]
    }
   ],
   "source": [
    "# create a mapping from characters to integers\n",
    "stoi = { ch:i for i,ch in enumerate(chars) }\n",
    "itos = { i:ch for i,ch in enumerate(chars) }\n",
    "encode = lambda s: [stoi[c] for c in s] # encoder: take a string, output a list of integers\n",
    "decode = lambda l: ''.join([itos[i] for i in l]) # decoder: take a list of integers, output a string\n",
    "\n",
    "# This code offers a very basic form of tokeniser, wherein the seuqence of integers is long but the integers in the sequence are small, in other words the vocabulary is small\n",
    "\n",
    "print(encode(\"hi there\"))\n",
    "print(decode(encode(\"hi there\")))"
   ]
  },
  {
   "cell_type": "code",
   "execution_count": 572,
   "id": "f0cefd71-b7ac-404c-9343-a50a36f366a8",
   "metadata": {},
   "outputs": [
    {
     "name": "stdout",
     "output_type": "stream",
     "text": [
      "torch.Size([2186053]) torch.int64\n",
      "tensor([50, 66, 73, 56, 64, 69, 60, 26,  1, 30, 69, 62, 73, 80,  1, 55, 60, 67,\n",
      "        60, 69, 74, 66, 80,  1, 77, 70, 78, 74,  1, 75, 70,  1, 71, 76, 69, 64,\n",
      "        74, 63,  1, 47, 76, 74, 74, 64, 56, 69,  1, 56, 75, 73, 70, 58, 64, 75,\n",
      "        64, 60, 74,  0, 52, 56, 73,  1, 64, 69,  1, 50, 66, 73, 56, 64, 69, 60,\n",
      "        26,  1, 49, 56, 66, 64, 69, 62,  1, 58, 70, 77, 60, 73,  1, 64, 69,  1,\n",
      "        56,  1, 75, 70, 78, 69,  1, 76, 69, 59, 60, 73,  1, 56, 75, 75, 56, 58,\n",
      "        66,  0, 50, 66, 73, 56, 64, 69, 60,  1, 78, 56, 73,  1,  8, 58, 56, 75,\n",
      "        56, 74, 75, 73, 70, 71, 63, 64, 58,  1, 61, 70, 73,  1, 62, 67, 70, 57,\n",
      "        56, 67,  1, 61, 70, 70, 59,  8,  0, 42, 56, 69, 58, 63, 60, 74, 75, 60,\n",
      "        73,  1, 30, 73, 60, 69, 56,  1, 57, 70, 68, 57, 64, 69, 62, 26,  1, 48,\n",
      "        56, 61, 61, 64, 60,  1, 47, 70, 76, 74, 74, 70, 74,  8, 74,  1, 71, 56,\n",
      "        73, 60, 69, 75, 74,  1, 70, 69,  1, 63, 60, 56, 73, 64, 69, 62,  1, 75,\n",
      "        63, 60,  1, 75, 73, 76, 75, 63,  0, 50, 66, 73, 56, 64, 69, 60,  1, 58,\n",
      "        70, 69, 61, 67, 64, 58, 75, 26,  1, 44, 64, 67,  1, 71, 73, 64, 58, 60,\n",
      "         1, 74, 70, 56, 73, 74,  1, 75, 70,  1, 63, 64, 62, 63, 60, 74, 75,  1,\n",
      "        67, 60, 77, 60, 67,  1, 74, 64, 69, 58, 60,  1, 18, 16, 16, 24,  0, 50,\n",
      "        66, 73, 56, 64, 69, 60,  1, 78, 56, 73, 26,  1, 45, 42,  1, 75, 70,  1,\n",
      "        63, 70, 67, 59,  1, 75, 56, 67, 66, 74,  1, 78, 64, 75, 63,  1, 78, 70,\n",
      "        73, 67, 59,  1, 67, 60, 56, 59, 60, 73, 74,  1, 70, 69,  1, 61, 76, 73,\n",
      "        75, 63, 60, 73,  1, 74, 56, 69, 58, 75, 64, 70, 69, 74,  0, 50, 66, 73,\n",
      "        56, 64, 69, 60,  1, 78, 56, 73, 26,  1, 50, 40,  1, 62, 73, 56, 69, 75,\n",
      "        74,  1, 21, 16,  1, 50, 66, 73, 56, 64, 69, 64, 56, 69,  1, 73, 60, 61,\n",
      "        76, 62, 60, 60,  1, 77, 64, 74, 56, 74,  1, 74, 70,  1, 61, 56, 73,  0,\n",
      "        49, 64, 66, 49, 70, 66,  1, 67, 64, 68, 64, 75, 74,  1, 74, 60, 73, 77,\n",
      "        64, 58, 60, 74,  1, 56, 74,  1, 43, 60, 75, 61, 67, 64, 79,  1, 71, 76,\n",
      "        67, 67, 74,  1, 70, 76, 75,  1, 70, 61,  1, 47, 76, 74, 74, 64, 56,  0,\n",
      "        32, 70, 77, 64, 59, 26,  1, 35, 70, 76, 73, 75, 63,  1, 65, 56, 57,  1,\n",
      "        61, 70, 73,  1, 48, 58, 70, 75, 67, 56, 69, 59,  8, 74,  1, 77, 76, 67,\n",
      "        69, 60, 73, 56, 57, 67, 60, 12,  1, 56, 69, 59,  1, 75, 60, 74, 75, 64,\n",
      "        69, 62,  1, 78, 64, 69, 59,  1, 59, 70, 78, 69,  1, 61, 60, 56, 73, 74,\n",
      "         1, 64, 69,  1, 52, 56, 67, 60, 74,  0, 45, 73, 70, 75, 60, 74, 75, 74,\n",
      "         1, 56, 58, 73, 70, 74, 74,  1, 47, 76, 74, 74, 64, 56,  1, 74, 60, 60,\n",
      "         1, 75, 63, 70, 76, 74, 56, 69, 59, 74,  1, 59, 60, 75, 56, 64, 69, 60,\n",
      "        59,  0, 50, 66, 73, 56, 64, 69, 60,  1, 58, 70, 69, 61, 67, 64, 58, 75,\n",
      "        26,  1, 54, 70, 76, 73,  1, 62, 76, 64, 59, 60,  1, 75, 70,  1, 76, 69,\n",
      "        59, 60, 73, 74, 75, 56, 69, 59, 64, 69, 62,  1, 59, 56, 80,  1, 17, 17,\n",
      "         0, 47, 76, 74, 74, 64, 56, 69,  1, 62, 80, 68, 69, 56, 74, 75,  1, 64,\n",
      "        69, 77, 60, 74, 75, 64, 62, 56, 75, 60, 59,  1, 61, 70, 73,  1, 78, 60,\n",
      "        56, 73, 64, 69, 62,  1, 71, 73, 70, 13, 78, 56, 73,  1, 74, 80, 68, 57,\n",
      "        70, 67,  1, 70, 69,  1, 71, 70, 59, 64, 76, 68,  1, 69, 60, 79, 75,  1,\n",
      "        75, 70,  1, 50, 66, 73, 56, 64, 69, 64, 56, 69,  0, 50, 66, 73, 56, 64,\n",
      "        69, 60, 26,  1, 52, 64, 75, 63,  1, 71, 67, 56, 58, 56, 73, 59, 74,  1,\n",
      "        56, 69, 59,  1, 75, 60, 56, 73, 74, 12,  1, 45, 70, 67, 60, 74,  1, 56,\n",
      "        73, 60,  1, 62, 73, 60, 60, 75, 64, 69, 62,  1, 73, 60, 61, 76, 62, 60,\n",
      "        60, 74,  1, 67, 64, 66, 60,  1, 61, 56, 68, 64, 67, 80,  0, 49, 78, 64,\n",
      "        75, 75, 60, 73,  1, 64, 74,  1, 71, 56, 73, 75,  1, 70, 61,  1, 70, 76,\n",
      "        73,  1, 78, 56, 73,  1, 60, 61, 61, 70, 73, 75,  1, 13,  1, 50, 66, 73,\n",
      "        56, 64, 69, 60,  1, 68, 64, 69, 64, 74, 75, 60, 73,  0, 50, 66, 73, 56,\n",
      "        64, 69, 60,  1, 64, 69, 77, 56, 74, 64, 70, 69, 26,  1, 51, 70, 67, 76,\n",
      "        69, 75, 60, 60, 73, 74,  1,  8, 78, 70, 73, 66, 64, 69, 62,  1, 70, 69,\n",
      "         1, 56, 76, 75, 70, 71, 64, 67, 70, 75,  8,  0, 50, 66, 73, 56, 64, 69,\n",
      "        60,  1, 58, 73, 64, 74, 64, 74, 26,  1, 49, 63, 60,  1, 52, 60, 74, 75,\n",
      "         1, 61, 64, 62, 63, 75, 74,  1, 57, 56, 58, 66,  1, 56, 62, 56, 64, 69,\n",
      "        74, 75,  1, 45, 76, 75, 64, 69,  1, 75, 63, 60,  1, 59, 64, 74, 73, 76,\n",
      "        71, 75, 70, 73,  0, 42, 56, 73, 64, 76, 71, 70, 67, 26,  1, 35, 64, 73,\n",
      "        60, 74, 12,  1, 69, 70,  1, 78, 56, 75])\n"
     ]
    }
   ],
   "source": [
    "# let's now tokenise/encode our whole set of text\n",
    "import torch # import PyTorch library\n",
    "data = torch.tensor(encode(text), dtype=torch.long)\n",
    "\n",
    "# data.shape returns tuple representing dimensions of tensor\n",
    "'''\n",
    "Tensor:\n",
    "A fundamental data structure in ML.\n",
    "A multi-dimensional array used to store data. It generalizes matrices to higher dimensions and can be thought of as a container for numerical data.\n",
    "'''\n",
    "print(data.shape, data.dtype)\n",
    "\n",
    "print(data[:1000]) # the first 1000 characters, this is how the GPT will look our words"
   ]
  },
  {
   "cell_type": "code",
   "execution_count": 574,
   "id": "80a0c2f6-eba5-4f2d-9909-51efb15eb703",
   "metadata": {},
   "outputs": [],
   "source": [
    "# This would be used to check at the end as how well our model is overfitting.\n",
    "'''\n",
    "Overfitting:\n",
    "Overfitting is a common problem in machine learning and statistical modeling where a model learns not just the underlying patterns in the training data but also the noise or random fluctuations. This results in a model that performs very well on the training data but poorly on new, unseen data. \n",
    "'''\n",
    "\n",
    "# Let's now split up the data into train and validation sets\n",
    "n = int(0.9*len(data)) # first 90% will be train data, rest would be validation\n",
    "train_data = data[:n]\n",
    "val_data = data[n:]"
   ]
  },
  {
   "cell_type": "code",
   "execution_count": 576,
   "id": "9889be7d-24bb-4f3a-ba79-d08f3ba17451",
   "metadata": {},
   "outputs": [
    {
     "data": {
      "text/plain": [
       "tensor([50, 66, 73, 56, 64, 69, 60, 26,  1])"
      ]
     },
     "execution_count": 576,
     "metadata": {},
     "output_type": "execute_result"
    }
   ],
   "source": [
    "# We will train the transformer on chunks of dataset/text so that it's computationally inexpensive\n",
    "# block size states the max length of our chunks\n",
    "block_size = 8\n",
    "train_data[:block_size+1]\n",
    "# predictions are made on the basis of relative positions of these tokens"
   ]
  },
  {
   "cell_type": "code",
   "execution_count": 578,
   "id": "509fdcd5-c6ab-496d-bec7-541cb171cb64",
   "metadata": {},
   "outputs": [
    {
     "name": "stdout",
     "output_type": "stream",
     "text": [
      "When input is tensor([50]) the target: 66\n",
      "When input is tensor([50, 66]) the target: 73\n",
      "When input is tensor([50, 66, 73]) the target: 56\n",
      "When input is tensor([50, 66, 73, 56]) the target: 64\n",
      "When input is tensor([50, 66, 73, 56, 64]) the target: 69\n",
      "When input is tensor([50, 66, 73, 56, 64, 69]) the target: 60\n",
      "When input is tensor([50, 66, 73, 56, 64, 69, 60]) the target: 26\n",
      "When input is tensor([50, 66, 73, 56, 64, 69, 60, 26]) the target: 1\n"
     ]
    }
   ],
   "source": [
    "x = train_data[:block_size]\n",
    "y = train_data[1:block_size+1]\n",
    "for t in range(block_size):\n",
    "    context = x[:t+1]\n",
    "    target = y[t]\n",
    "    print(f\"When input is {context} the target: {target}\")"
   ]
  },
  {
   "cell_type": "code",
   "execution_count": 580,
   "id": "a9d23af6-2aab-4d42-a150-ba5a4db86bd4",
   "metadata": {},
   "outputs": [
    {
     "name": "stdout",
     "output_type": "stream",
     "text": [
      "inputs:\n",
      "torch.Size([4, 8])\n",
      "tensor([[70, 71, 71,  0, 31, 56, 64, 73],\n",
      "        [73, 67, 59,  1, 48, 58, 70, 76],\n",
      "        [57, 64, 59,  1, 61, 70, 73,  1],\n",
      "        [ 1, 33, 56, 80,  1, 71, 56, 73]])\n",
      "targets:\n",
      "torch.Size([4, 8])\n",
      "tensor([[71, 71,  0, 31, 56, 64, 73, 74],\n",
      "        [67, 59,  1, 48, 58, 70, 76, 75],\n",
      "        [64, 59,  1, 61, 70, 73,  1, 17],\n",
      "        [33, 56, 80,  1, 71, 56, 73, 56]])\n",
      "----\n",
      "when input is [70] the target: 71\n",
      "when input is [70, 71] the target: 71\n",
      "when input is [70, 71, 71] the target: 0\n",
      "when input is [70, 71, 71, 0] the target: 31\n",
      "when input is [70, 71, 71, 0, 31] the target: 56\n",
      "when input is [70, 71, 71, 0, 31, 56] the target: 64\n",
      "when input is [70, 71, 71, 0, 31, 56, 64] the target: 73\n",
      "when input is [70, 71, 71, 0, 31, 56, 64, 73] the target: 74\n",
      "when input is [73] the target: 67\n",
      "when input is [73, 67] the target: 59\n",
      "when input is [73, 67, 59] the target: 1\n",
      "when input is [73, 67, 59, 1] the target: 48\n",
      "when input is [73, 67, 59, 1, 48] the target: 58\n",
      "when input is [73, 67, 59, 1, 48, 58] the target: 70\n",
      "when input is [73, 67, 59, 1, 48, 58, 70] the target: 76\n",
      "when input is [73, 67, 59, 1, 48, 58, 70, 76] the target: 75\n",
      "when input is [57] the target: 64\n",
      "when input is [57, 64] the target: 59\n",
      "when input is [57, 64, 59] the target: 1\n",
      "when input is [57, 64, 59, 1] the target: 61\n",
      "when input is [57, 64, 59, 1, 61] the target: 70\n",
      "when input is [57, 64, 59, 1, 61, 70] the target: 73\n",
      "when input is [57, 64, 59, 1, 61, 70, 73] the target: 1\n",
      "when input is [57, 64, 59, 1, 61, 70, 73, 1] the target: 17\n",
      "when input is [1] the target: 33\n",
      "when input is [1, 33] the target: 56\n",
      "when input is [1, 33, 56] the target: 80\n",
      "when input is [1, 33, 56, 80] the target: 1\n",
      "when input is [1, 33, 56, 80, 1] the target: 71\n",
      "when input is [1, 33, 56, 80, 1, 71] the target: 56\n",
      "when input is [1, 33, 56, 80, 1, 71, 56] the target: 73\n",
      "when input is [1, 33, 56, 80, 1, 71, 56, 73] the target: 56\n"
     ]
    }
   ],
   "source": [
    "# Using the below code you ensure that any random numbers generated by PyTorch are reproducible, which means when you run the code multiple times, you'll get the same random numbers each time.\n",
    "# This is useful for debugging or comparing results.\n",
    "# The specific value doesn't matter, it's just used to initialise the random number generator in a consistent way.\n",
    "torch.manual_seed(1337)\n",
    "batch_size = 4 # how many independent sequences will we process in parallel?\n",
    "block_size = 8 # what is the maximum context length for predictions?\n",
    "\n",
    "def get_batch(split):\n",
    "    # generate a small batch of data of inputs x and targets y\n",
    "    data  = train_data if split == 'train' else val_data\n",
    "    # The below code generates batch_size (4) nos. in the range 0 to len(data)-block_size (exclusive)\n",
    "    # These integers, stored in ix, are used as starting indexes to slice the data\n",
    "    ix = torch.randint(len(data) - block_size, (batch_size,))\n",
    "    # stack up the rows into a tensor\n",
    "    x = torch.stack([data[i:i+block_size] for i in ix])\n",
    "    y = torch.stack([data[i+1:i+block_size+1] for i in ix])\n",
    "    x, y = x.to(device), y.to(device)\n",
    "    return x, y\n",
    "\n",
    "@torch.no_grad()\n",
    "def estimate_loss():\n",
    "    out = {}\n",
    "    model.eval()\n",
    "    for split in {'train', 'val'}:\n",
    "        losses = torch.zeros(eval_iters)\n",
    "        for k in range(eval_iters):\n",
    "            X, Y = get_batch(split)\n",
    "            logits, loss = model(X, Y)\n",
    "            losses[k] = loss.item()\n",
    "        out[split] = losses.mean()\n",
    "    model.train()\n",
    "    return out\n",
    "\n",
    "xb, yb = get_batch('train')\n",
    "print('inputs:')\n",
    "print(xb.shape)\n",
    "print(xb)\n",
    "print('targets:')\n",
    "print(yb.shape)\n",
    "print(yb)\n",
    "\n",
    "print('----')\n",
    "\n",
    "for b in range(batch_size): # batch dimension\n",
    "    for t in range(block_size): # time dimension\n",
    "        context = xb[b, :t+1]\n",
    "        target = yb[b, t]\n",
    "        print(f\"when input is {context.tolist()} the target: {target}\")\n"
   ]
  },
  {
   "cell_type": "code",
   "execution_count": 593,
   "id": "78fd02ed-44f4-4072-bf09-3b45e5d1c02a",
   "metadata": {},
   "outputs": [
    {
     "name": "stdout",
     "output_type": "stream",
     "text": [
      "torch.Size([32, 111])\n",
      "tensor(4.7075, grad_fn=<NllLossBackward0>)\n",
      "\n",
      "āāāDi…ä7#Yb00Z‘KJIx@J2åí9D8f5kI?WñE€u!la+L6ö”XoA8WS8ñlï79O6Pāle-”IáåZ#U…s&Wév…bE-…eéK2€Lñó0/féPDHåNä\n"
     ]
    }
   ],
   "source": [
    "import torch.nn as nn\n",
    "# below syntax is such because nn is a submodule of torch, and Python needs the full module path (torch.nn) to find the functional module correctly.\n",
    "from torch.nn import functional as F\n",
    "torch.manual_seed(1337)\n",
    "\n",
    "class Head(nn.Module):\n",
    "    '''one head of self-attention'''\n",
    "    def __init__(self, head_size):\n",
    "        super().__init__()\n",
    "        self.key = nn.Linear(n_embd, head_size, bias = False)\n",
    "        self.query = nn.Linear(n_embd, head_size, bias = False)\n",
    "        self.value = nn.Linear(n_embd, head_size, bias = False)\n",
    "        self.register_buffer('tril', torch.tril(torch.ones(block_size, block_size)))\n",
    "\n",
    "        self.dropout = nn.Dropout(dropout)\n",
    "\n",
    "    def forward(self, x):\n",
    "        B, T, C = x.shape\n",
    "        k = self.key(x) # (B, T, C)\n",
    "        q = self.query(x) # (B, T, C)\n",
    "        # complete attention scores (\"affinities\")\n",
    "        wei = q @ k.transpose(-2, -1) * C**-0.5 # (B, T, C) @ (B, C, T) -> (B, T, T)\n",
    "        wei = wei.masked_fill(self.tril[:T, :T] == 0, float('-inf')) # (B, T, T)\n",
    "        wei = F.softmax(wei, dim = -1) # (B, T, T)\n",
    "        wei = self.dropout(wei)\n",
    "        # perform the weighted aggregation of the values\n",
    "        v = self.value(x) # (B, T, C)\n",
    "        out = wei @ v # (B, T, T) @ (B, T, C) -> (B, T, C)\n",
    "        return out\n",
    "        \n",
    "class MultiHeadAttention(nn.Module):\n",
    "    '''multiple heads of self-attention in parallel'''\n",
    "\n",
    "    def __init__(self, num_heads, head_size):\n",
    "        super().__init__()\n",
    "        self.heads = nn.ModuleList([Head(head_size) for _ in range(num_heads)])\n",
    "        self.proj = nn.Linear(n_embd, n_embd)\n",
    "        self.dropout = nn.Dropout(dropout)\n",
    "    \n",
    "    def forward(self, x):\n",
    "        out = torch.cat([h(x) for h in self.heads], dim = -1)\n",
    "        out = self.dropout(self.proj(out))\n",
    "        return out \n",
    "        \n",
    "class FeedForward(nn.Module):\n",
    "    ''' a simple linear layer followed by a non-linearity '''\n",
    "\n",
    "    def __init__(self, n_embd):\n",
    "        super().__init__()\n",
    "        self.net = nn.Sequential(\n",
    "            nn.Linear(n_embd, 4 * n_embd),\n",
    "            nn.ReLU(),\n",
    "            nn.Linear(4 * n_embd, n_embd),\n",
    "            nn.Dropout(dropout),\n",
    "        )\n",
    "\n",
    "    def forward(self, x):\n",
    "        return self.net(x)\n",
    "        \n",
    "class Block(nn.Module):\n",
    "    '''Transformer block: communication followed by computation'''\n",
    "\n",
    "    def __init__(self, n_embd, n_head):\n",
    "        # n_embd: embedding dimension, n_head: the number of heads we'd like\n",
    "        super().__init__()\n",
    "        head_size = n_embd // n_head\n",
    "        self.sa = MultiHeadAttention(n_head, head_size)\n",
    "        self.ffwd = FeedForward(n_embd)\n",
    "        self.ln1 = nn.LayerNorm(n_embd)\n",
    "        self.ln2 = nn.LayerNorm(n_embd)\n",
    "\n",
    "    def forward(self, x):\n",
    "        x = x + self.sa(self.ln1(x))\n",
    "        x = x + self.ffwd(self.ln2(x))\n",
    "        return x\n",
    "        \n",
    "        \n",
    "# A bigram langauge model is a type of statistical language model that predicts the probability of a word based on the preceding word. It assumes that the occurence of a word depends only on the previous word.\n",
    "class BigramLanguageModel(nn.Module):\n",
    "\n",
    "    def __init__(self):\n",
    "        super().__init__()\n",
    "        # each token directly reads off the logits for the next token from a lookup table\n",
    "        # nn.Embedding(vocab_size, vocab_size): vocab_size is the size of the vocabulary; each token is represented by a vector of size vocab_size, effectively creating a look up table of token embeddings.\n",
    "        self.token_embedding_table = nn.Embedding(vocab_size, n_embd)\n",
    "        self.position_embedding_table = nn.Embedding(block_size, n_embd)\n",
    "        self.blocks = nn.Sequential(*[Block(n_embd, n_head=n_head) for _ in range(n_layer)])\n",
    "        self.ln_f = nn.LayerNorm(n_embd) # final layer norm\n",
    "        # self.blocks = nn.Sequential(\n",
    "        #     Block(n_embd, n_head = 4),\n",
    "        #     Block(n_embd, n_head = 4),\n",
    "        #     Block(n_embd, n_head = 4),\n",
    "        #     nn.LayerNorm(n_embd),\n",
    "        # )\n",
    "        # self.sa_heads = MultiHeadAttention(4, n_embd//4) # i.e. 4 heads of 8-dimensional self-attention\n",
    "        # self.ffwd = FeedForward(n_embd)\n",
    "        self.lm_head = nn.Linear(n_embd, vocab_size)\n",
    "\n",
    "    # docstrings to be placed at same indentation to avoid confusion\n",
    "    '''\n",
    "    Batch is the number of sequences in the batch.\n",
    "    Time is the length of each sequence.\n",
    "    Channels is the size of the embedding (equal to vocab_size).\n",
    "    '''\n",
    "\n",
    "    # In context of neural networks, the \"forward pass\" refers to the process of passing input data through the network to obtain predictions or outputs.\n",
    "    def forward(self, idx, targets = None):\n",
    "        B, T = idx.shape\n",
    "        \n",
    "        # idx and targets are both (B,T) tensor of integers\n",
    "        tok_emb = self.token_embedding_table(idx) # (Batch, Time, Channels) Batch -> 4 Time -> 8 Channels -> vocab_size\n",
    "        pos_emb = self.position_embedding_table(torch.arange(T, device = device)) # (T, C)\n",
    "        x = tok_emb + pos_emb # (B, T, C)\n",
    "        # x = self.sa_heads(x) # apply one head of self attention. (B, T, C)\n",
    "        # x = self.ffwd(x) # (B, T, C)\n",
    "        x = self.blocks(x) # (B, T, C)\n",
    "        x = self.ln_f(x) # (B, T, C)\n",
    "        logits = self.lm_head(x) # (B, T, vocab_size)\n",
    "    \n",
    "        # if no targets, there's no loss to compute.\n",
    "        if targets is None:\n",
    "            loss = None\n",
    "        else:\n",
    "            # reshaping our logits such that they align with the syntax of cross_entropy\n",
    "            B, T, C = logits.shape \n",
    "            logits = logits.view(B*T, C)\n",
    "            targets = targets.view(B*T)\n",
    "        \n",
    "            # quality of prediction wrt targets\n",
    "            # It can be understood as a probability distribution where the correct dimension would be looking like a peak\n",
    "            loss = F.cross_entropy(logits, targets)\n",
    "        \n",
    "        return logits, loss\n",
    "\n",
    "    # defines the method to generate new tokens based on the current sequence idx.\n",
    "    def generate(self, idx, max_new_tokens):\n",
    "        # idx is (B, T) array of indices in the current context\n",
    "        for _ in range(max_new_tokens):\n",
    "            # crop idx to the last block_size tokens\n",
    "            idx_cond = idx[:, -block_size:]\n",
    "            # get the predictions\n",
    "            logits, loss = self(idx_cond)\n",
    "            # focus only on the last time step\n",
    "            logits = logits[:, -1, :] # becomes (B, C)\n",
    "            # apply softmax ro get probabilities \n",
    "            probs = F.softmax(logits, dim = -1) # (B, C)\n",
    "            # sample from the distribution\n",
    "            idx_next = torch.multinomial(probs, num_samples = 1) # (B, 1)\n",
    "            # append sampled index to the running sequence\n",
    "            idx = torch.cat((idx, idx_next), dim = 1) # (B, T+1)\n",
    "        return idx\n",
    "model = BigramLanguageModel()\n",
    "m = model.to(device)\n",
    "# logits, loss = m(xb, yb)\n",
    "# print(logits.shape)\n",
    "# print(loss)\n",
    "\n",
    "\n",
    "# print(decode(m.generate(idx = torch.zeros((1, 1), dtype = torch.long), max_new_tokens = 100)[0].tolist()))\n",
    "\n",
    "print(sum(p.numel() for p in m.parameters())/1e6, 'M parameters')"
   ]
  },
  {
   "cell_type": "code",
   "execution_count": 594,
   "id": "6418f272-f9d4-40a0-ae3f-db03abdf0f1d",
   "metadata": {},
   "outputs": [],
   "source": [
    "# m = model.to(device)\n",
    "# create a PyTorch optimiser\n",
    "optimiser = torch.optim.AdamW(m.parameters(), lr = learning_rate)"
   ]
  },
  {
   "cell_type": "code",
   "execution_count": 597,
   "id": "7086befe-a7b6-40ab-a88c-638982c36c8b",
   "metadata": {},
   "outputs": [
    {
     "name": "stdout",
     "output_type": "stream",
     "text": [
      "step 0: train loss 4.8684, val loss 4.8683\n",
      "step 500: train loss 2.7081, val loss 2.6958\n",
      "step 1000: train loss 2.6286, val loss 2.6257\n",
      "step 1500: train loss 2.5797, val loss 2.5802\n",
      "step 2000: train loss 2.5213, val loss 2.5163\n",
      "step 2500: train loss 2.4878, val loss 2.4834\n",
      "step 3000: train loss 2.4929, val loss 2.4829\n",
      "step 3500: train loss 2.4646, val loss 2.4595\n",
      "step 4000: train loss 2.4378, val loss 2.4708\n",
      "step 4500: train loss 2.4062, val loss 2.4111\n"
     ]
    }
   ],
   "source": [
    "# batch_size = 32 # This specifies that 32 samples will be processed in one training step called batch.\n",
    "# for steps in range(50000): # This loop will run for 100 steps. Each step is one iteration of training using a batch of data.\n",
    "#     # sample a batch of data\n",
    "#     xb, yb = get_batch('train')\n",
    "#     # evaluate the loss \n",
    "#     # logits are the raw output of the model before any activation function, representing the predicted probabilities for each class.\n",
    "#     logits, loss = m(xb, yb)\n",
    "#     optimiser.zero_grad(set_to_none = True)\n",
    "#     loss.backward()\n",
    "#     optimiser.step()\n",
    "\n",
    "# print(loss.item())\n",
    "\n",
    "for iter in range(max_iters):\n",
    "    # every once in a while evaluate the loss on train and val sets\n",
    "    if iter % eval_interval == 0:\n",
    "        losses = estimate_loss()\n",
    "        print(f\"step {iter}: train loss {losses['train']:.4f}, val loss {losses['val']:.4f}\")\n",
    "\n",
    "    # sample a batch of data\n",
    "    xb, yb = get_batch('train')\n",
    "\n",
    "    # evaluate the loss\n",
    "    logits, loss = model(xb, yb)\n",
    "    optimiser.zero_grad(set_to_none = True)\n",
    "    loss.backward()\n",
    "    optimiser.step()\n",
    "\n"
   ]
  },
  {
   "cell_type": "code",
   "execution_count": null,
   "id": "a8935bcd-06c9-4ac5-8f28-b68ba4a1c75d",
   "metadata": {},
   "outputs": [],
   "source": [
    "# generate from the model\n",
    "context = torch.zeros((1,1), dtype = torch.long, device = device)\n",
    "print(decode(m.generate(context, max_new_tokens = 500)[0].tolist()))"
   ]
  },
  {
   "cell_type": "markdown",
   "id": "e9ff3b03-cd82-4d0e-a743-0f02f433184b",
   "metadata": {},
   "source": [
    "## The mathematical trick in self-attention"
   ]
  },
  {
   "cell_type": "code",
   "execution_count": 531,
   "id": "3ac23952-2a4e-4918-ba6f-0da66803486a",
   "metadata": {},
   "outputs": [
    {
     "data": {
      "text/plain": [
       "torch.Size([4, 8, 2])"
      ]
     },
     "execution_count": 531,
     "metadata": {},
     "output_type": "execute_result"
    }
   ],
   "source": [
    "# consider the following toy example:\n",
    "\n",
    "torch.manual_seed(1337)\n",
    "B, T, C = 4, 8, 2 # batch, time, channels\n",
    "x = torch.randn(B, T, C)\n",
    "x.shape"
   ]
  },
  {
   "cell_type": "code",
   "execution_count": 532,
   "id": "fc126523-da6e-4939-8c7f-fad220500825",
   "metadata": {},
   "outputs": [],
   "source": [
    "# We want x[b, t] = mean_{i<=t} x[b, i]\n",
    "xbow = torch.zeros((B, T, C))\n",
    "for b in range(B):\n",
    "    for t in range(T):\n",
    "        xprev = x[b, :t+1] # (t, C)\n",
    "        xbow[b, t] = torch.mean(xprev, 0)"
   ]
  },
  {
   "cell_type": "code",
   "execution_count": 533,
   "id": "763a2e8f-dc70-41d7-aae6-c76a7a20595a",
   "metadata": {},
   "outputs": [
    {
     "data": {
      "text/plain": [
       "tensor([[ 0.1808, -0.0700],\n",
       "        [-0.3596, -0.9152],\n",
       "        [ 0.6258,  0.0255],\n",
       "        [ 0.9545,  0.0643],\n",
       "        [ 0.3612,  1.1679],\n",
       "        [-1.3499, -0.5102],\n",
       "        [ 0.2360, -0.2398],\n",
       "        [-0.9211,  1.5433]])"
      ]
     },
     "execution_count": 533,
     "metadata": {},
     "output_type": "execute_result"
    }
   ],
   "source": [
    "x[0]"
   ]
  },
  {
   "cell_type": "code",
   "execution_count": 534,
   "id": "70be38b6-6195-48b7-a546-5873d819e9ba",
   "metadata": {},
   "outputs": [
    {
     "data": {
      "text/plain": [
       "True"
      ]
     },
     "execution_count": 534,
     "metadata": {},
     "output_type": "execute_result"
    }
   ],
   "source": [
    "# version 2\n",
    "wei = torch.tril(torch.ones(T, T))\n",
    "wei = wei / wei.sum(1, keepdim = True)\n",
    "xbow2 = wei @ x # (B, T, T) @ (B, T, C) ---> (B, T, C)\n",
    "torch.allclose(xbow, xbow2)"
   ]
  },
  {
   "cell_type": "code",
   "execution_count": 535,
   "id": "ff08ed60-285f-4978-9e40-615628469d85",
   "metadata": {},
   "outputs": [
    {
     "data": {
      "text/plain": [
       "True"
      ]
     },
     "execution_count": 535,
     "metadata": {},
     "output_type": "execute_result"
    }
   ],
   "source": [
    "# version 3: use Softmax\n",
    "tril = torch.tril(torch.ones(T, T))\n",
    "wei = torch.zeros((T, T))\n",
    "wei = wei.masked_fill(tril == 0, float('-inf'))\n",
    "wei = F.softmax(wei, dim = -1)\n",
    "xbow3 = wei @ x\n",
    "torch.allclose(xbow, xbow3)"
   ]
  },
  {
   "cell_type": "code",
   "execution_count": 536,
   "id": "07067b6d-c7fa-4f40-af5b-837e2f1a8647",
   "metadata": {},
   "outputs": [
    {
     "data": {
      "text/plain": [
       "(tensor([[ 0.1808, -0.0700],\n",
       "         [-0.0894, -0.4926],\n",
       "         [ 0.1490, -0.3199],\n",
       "         [ 0.3504, -0.2238],\n",
       "         [ 0.3525,  0.0545],\n",
       "         [ 0.0688, -0.0396],\n",
       "         [ 0.0927, -0.0682],\n",
       "         [-0.0341,  0.1332]]),\n",
       " tensor([[ 0.1808, -0.0700],\n",
       "         [-0.0894, -0.4926],\n",
       "         [ 0.1490, -0.3199],\n",
       "         [ 0.3504, -0.2238],\n",
       "         [ 0.3525,  0.0545],\n",
       "         [ 0.0688, -0.0396],\n",
       "         [ 0.0927, -0.0682],\n",
       "         [-0.0341,  0.1332]]))"
      ]
     },
     "execution_count": 536,
     "metadata": {},
     "output_type": "execute_result"
    }
   ],
   "source": [
    "xbow[0], xbow2[0]"
   ]
  },
  {
   "cell_type": "code",
   "execution_count": 537,
   "id": "0ae08e5c-6b26-4d85-a9d4-ceb51488037d",
   "metadata": {},
   "outputs": [
    {
     "data": {
      "text/plain": [
       "torch.Size([4, 8, 16])"
      ]
     },
     "execution_count": 537,
     "metadata": {},
     "output_type": "execute_result"
    }
   ],
   "source": [
    "# version 4: self-attention!\n",
    "torch.manual_seed(1337)\n",
    "B, T, C = 4, 8, 32 # batch, time, channels\n",
    "x = torch.randn(B, T, C)\n",
    "\n",
    "# let's see a single Head perform self-attention\n",
    "head_size = 16\n",
    "key = nn.Linear(C, head_size, bias = False)\n",
    "query = nn.Linear(C, head_size, bias = False)\n",
    "value = nn.Linear(C, head_size, bias = False)\n",
    "k = key(x) # (B, T, 16)\n",
    "q = query(x) # (B, T, 16)\n",
    "wei = q @ k.transpose(-2, -1) # (B, T, 16) @ (B, 16, T) ---> (B, T, T)\n",
    "\n",
    "tril = torch.tril(torch.ones(T, T))\n",
    "# wei = torch.zeros((T, T))\n",
    "wei = wei.masked_fill(tril == 0, float('-inf'))\n",
    "wei = F.softmax(wei, dim = -1)\n",
    "\n",
    "v = value(x)\n",
    "out = wei @ v\n",
    "# out = wei @ x\n",
    "\n",
    "out.shape"
   ]
  },
  {
   "cell_type": "code",
   "execution_count": 538,
   "id": "588c3130-42b2-43e9-8ead-a759a17d3962",
   "metadata": {},
   "outputs": [
    {
     "data": {
      "text/plain": [
       "tensor([[[1.0000, 0.0000, 0.0000, 0.0000, 0.0000, 0.0000, 0.0000, 0.0000],\n",
       "         [0.1574, 0.8426, 0.0000, 0.0000, 0.0000, 0.0000, 0.0000, 0.0000],\n",
       "         [0.2088, 0.1646, 0.6266, 0.0000, 0.0000, 0.0000, 0.0000, 0.0000],\n",
       "         [0.5792, 0.1187, 0.1889, 0.1131, 0.0000, 0.0000, 0.0000, 0.0000],\n",
       "         [0.0294, 0.1052, 0.0469, 0.0276, 0.7909, 0.0000, 0.0000, 0.0000],\n",
       "         [0.0176, 0.2689, 0.0215, 0.0089, 0.6812, 0.0019, 0.0000, 0.0000],\n",
       "         [0.1691, 0.4066, 0.0438, 0.0416, 0.1048, 0.2012, 0.0329, 0.0000],\n",
       "         [0.0210, 0.0843, 0.0555, 0.2297, 0.0573, 0.0709, 0.2423, 0.2391]],\n",
       "\n",
       "        [[1.0000, 0.0000, 0.0000, 0.0000, 0.0000, 0.0000, 0.0000, 0.0000],\n",
       "         [0.1687, 0.8313, 0.0000, 0.0000, 0.0000, 0.0000, 0.0000, 0.0000],\n",
       "         [0.2477, 0.0514, 0.7008, 0.0000, 0.0000, 0.0000, 0.0000, 0.0000],\n",
       "         [0.4410, 0.0957, 0.3747, 0.0887, 0.0000, 0.0000, 0.0000, 0.0000],\n",
       "         [0.0069, 0.0456, 0.0300, 0.7748, 0.1427, 0.0000, 0.0000, 0.0000],\n",
       "         [0.0660, 0.0892, 0.0413, 0.6316, 0.1649, 0.0069, 0.0000, 0.0000],\n",
       "         [0.0396, 0.2288, 0.0090, 0.2000, 0.2061, 0.1949, 0.1217, 0.0000],\n",
       "         [0.3650, 0.0474, 0.0767, 0.0293, 0.3084, 0.0784, 0.0455, 0.0493]],\n",
       "\n",
       "        [[1.0000, 0.0000, 0.0000, 0.0000, 0.0000, 0.0000, 0.0000, 0.0000],\n",
       "         [0.4820, 0.5180, 0.0000, 0.0000, 0.0000, 0.0000, 0.0000, 0.0000],\n",
       "         [0.1705, 0.4550, 0.3745, 0.0000, 0.0000, 0.0000, 0.0000, 0.0000],\n",
       "         [0.0074, 0.7444, 0.0477, 0.2005, 0.0000, 0.0000, 0.0000, 0.0000],\n",
       "         [0.8359, 0.0416, 0.0525, 0.0580, 0.0119, 0.0000, 0.0000, 0.0000],\n",
       "         [0.1195, 0.2061, 0.1019, 0.1153, 0.1814, 0.2758, 0.0000, 0.0000],\n",
       "         [0.0065, 0.0589, 0.0372, 0.3063, 0.1325, 0.3209, 0.1378, 0.0000],\n",
       "         [0.1416, 0.1519, 0.0384, 0.1643, 0.1207, 0.1254, 0.0169, 0.2408]],\n",
       "\n",
       "        [[1.0000, 0.0000, 0.0000, 0.0000, 0.0000, 0.0000, 0.0000, 0.0000],\n",
       "         [0.6369, 0.3631, 0.0000, 0.0000, 0.0000, 0.0000, 0.0000, 0.0000],\n",
       "         [0.2586, 0.7376, 0.0038, 0.0000, 0.0000, 0.0000, 0.0000, 0.0000],\n",
       "         [0.4692, 0.3440, 0.1237, 0.0631, 0.0000, 0.0000, 0.0000, 0.0000],\n",
       "         [0.1865, 0.4680, 0.0353, 0.1854, 0.1248, 0.0000, 0.0000, 0.0000],\n",
       "         [0.0828, 0.7479, 0.0017, 0.0735, 0.0712, 0.0228, 0.0000, 0.0000],\n",
       "         [0.0522, 0.0517, 0.0961, 0.0375, 0.1024, 0.5730, 0.0872, 0.0000],\n",
       "         [0.0306, 0.2728, 0.0333, 0.1409, 0.1414, 0.0582, 0.0825, 0.2402]]],\n",
       "       grad_fn=<SoftmaxBackward0>)"
      ]
     },
     "execution_count": 538,
     "metadata": {},
     "output_type": "execute_result"
    }
   ],
   "source": [
    "wei"
   ]
  },
  {
   "cell_type": "code",
   "execution_count": 539,
   "id": "e215756c-2797-4d08-86bc-efec94b80f07",
   "metadata": {},
   "outputs": [],
   "source": [
    "k = torch.randn(B, T, head_size)\n",
    "q = torch.randn(B, T, head_size)\n",
    "wei = q @ k.transpose(-2, -1) * head_size**(-0.5)"
   ]
  },
  {
   "cell_type": "code",
   "execution_count": 540,
   "id": "690cac4c-74d6-41a4-bc0d-fbf9bdc7b163",
   "metadata": {},
   "outputs": [
    {
     "data": {
      "text/plain": [
       "tensor(1.0449)"
      ]
     },
     "execution_count": 540,
     "metadata": {},
     "output_type": "execute_result"
    }
   ],
   "source": [
    "k.var()"
   ]
  },
  {
   "cell_type": "code",
   "execution_count": 541,
   "id": "ad6a6255-2f45-4bc0-bc5b-b9a704d6c4b6",
   "metadata": {},
   "outputs": [
    {
     "data": {
      "text/plain": [
       "tensor(1.0700)"
      ]
     },
     "execution_count": 541,
     "metadata": {},
     "output_type": "execute_result"
    }
   ],
   "source": [
    "q.var()"
   ]
  },
  {
   "cell_type": "code",
   "execution_count": 542,
   "id": "419a4d6f-54b5-4def-9728-8d28abef4438",
   "metadata": {},
   "outputs": [
    {
     "data": {
      "text/plain": [
       "tensor(1.0918)"
      ]
     },
     "execution_count": 542,
     "metadata": {},
     "output_type": "execute_result"
    }
   ],
   "source": [
    "wei.var()"
   ]
  },
  {
   "cell_type": "code",
   "execution_count": 543,
   "id": "f7a8723a-034b-4a64-93a8-2dc53636bf13",
   "metadata": {},
   "outputs": [
    {
     "data": {
      "text/plain": [
       "tensor([0.1925, 0.1426, 0.2351, 0.1426, 0.2872])"
      ]
     },
     "execution_count": 543,
     "metadata": {},
     "output_type": "execute_result"
    }
   ],
   "source": [
    "torch.softmax(torch.tensor([0.1, -0.2, 0.3, -0.2, 0.5]), dim = -1)"
   ]
  },
  {
   "cell_type": "code",
   "execution_count": 544,
   "id": "1c7b39ba-0367-48df-9e36-7a71e5fbb93b",
   "metadata": {},
   "outputs": [
    {
     "data": {
      "text/plain": [
       "tensor([[1., 0., 0.],\n",
       "        [1., 1., 0.],\n",
       "        [1., 1., 1.]])"
      ]
     },
     "execution_count": 544,
     "metadata": {},
     "output_type": "execute_result"
    }
   ],
   "source": [
    "# returns the lower triangular part of the given matrix\n",
    "torch.tril(torch.ones(3, 3))"
   ]
  },
  {
   "cell_type": "code",
   "execution_count": 545,
   "id": "55074d86-88f5-44e5-a468-28cc62a3964d",
   "metadata": {},
   "outputs": [
    {
     "name": "stdout",
     "output_type": "stream",
     "text": [
      "a =  tensor([[1.0000, 0.0000, 0.0000],\n",
      "        [0.5000, 0.5000, 0.0000],\n",
      "        [0.3333, 0.3333, 0.3333]])\n",
      "____\n",
      "b =  tensor([[2., 7.],\n",
      "        [6., 4.],\n",
      "        [6., 5.]])\n",
      "____\n",
      "c =  tensor([[2.0000, 7.0000],\n",
      "        [4.0000, 5.5000],\n",
      "        [4.6667, 5.3333]])\n",
      "____\n"
     ]
    }
   ],
   "source": [
    "# we can be very efficient doing the above thing using matrix multiplication\n",
    "torch.manual_seed(42)\n",
    "a = torch.tril(torch.ones(3, 3))\n",
    "# using the below syntax would get us the sum for every row in a as 1\n",
    "a = a / torch.sum(a, 1, keepdim = True)\n",
    "b = torch.randint(0, 10, (3, 2)).float()\n",
    "c = a @ b\n",
    "print('a = ', a)\n",
    "print('____')\n",
    "print('b = ', b)\n",
    "print('____')\n",
    "print('c = ', c)\n",
    "print('____')"
   ]
  },
  {
   "cell_type": "code",
   "execution_count": null,
   "id": "e79e480f-2e4d-417a-b6fc-f26aa09c0d8a",
   "metadata": {},
   "outputs": [],
   "source": []
  },
  {
   "cell_type": "code",
   "execution_count": null,
   "id": "5c62c563-04c4-4bde-a35a-dc91666e15a4",
   "metadata": {},
   "outputs": [],
   "source": []
  },
  {
   "cell_type": "code",
   "execution_count": null,
   "id": "0a2f66b3-b60e-4928-944e-5b0174f3fe78",
   "metadata": {},
   "outputs": [],
   "source": []
  }
 ],
 "metadata": {
  "kernelspec": {
   "display_name": "Python 3 (ipykernel)",
   "language": "python",
   "name": "python3"
  },
  "language_info": {
   "codemirror_mode": {
    "name": "ipython",
    "version": 3
   },
   "file_extension": ".py",
   "mimetype": "text/x-python",
   "name": "python",
   "nbconvert_exporter": "python",
   "pygments_lexer": "ipython3",
   "version": "3.11.7"
  }
 },
 "nbformat": 4,
 "nbformat_minor": 5
}
